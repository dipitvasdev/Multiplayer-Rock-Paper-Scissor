{
  "nbformat": 4,
  "nbformat_minor": 0,
  "metadata": {
    "accelerator": "GPU",
    "colab": {
      "name": "Rok_Papr_Scissr.ipynb",
      "provenance": []
    },
    "kernelspec": {
      "display_name": "Python 3",
      "name": "python3"
    },
    "language_info": {
      "name": "python"
    }
  },
  "cells": [
    {
      "cell_type": "code",
      "metadata": {
        "id": "5V69vwuoYzuJ"
      },
      "source": [
        "import os \n",
        "import zipfile"
      ],
      "execution_count": 1,
      "outputs": []
    },
    {
      "cell_type": "code",
      "metadata": {
        "id": "-r8eChhyhoF6"
      },
      "source": [
        "zip = \"data.zip\"\n",
        "zip_ref = zipfile.ZipFile(zip,\"r\")\n",
        "zip_ref.extractall('/data')\n",
        "zip_ref.close()\n",
        "\n",
        "zip = \"validation.zip\"\n",
        "zip_ref = zipfile.ZipFile(zip,\"r\")\n",
        "zip_ref.extractall(\"/val\")\n",
        "zip_ref.close()"
      ],
      "execution_count": 2,
      "outputs": []
    },
    {
      "cell_type": "code",
      "metadata": {
        "id": "FNZWUAkDiUfz"
      },
      "source": [
        "import tensorflow as tf\n",
        "import keras_preprocessing \n",
        "from keras_preprocessing import image\n",
        "from keras_preprocessing.image import ImageDataGenerator\n",
        "\n",
        "TRAINIG_DIR = \"/data/data\"\n",
        "training_datagen = ImageDataGenerator(rescale = 1./255, rotation_range = 20, width_shift_range = 0.2, height_shift_range = 0.2, shear_range = 0.2 , zoom_range = 0.2 , horizontal_flip = True )\n",
        "VALIDATION_DIR = \"/val/validation\"\n",
        "validation_datagen = ImageDataGenerator(rescale = 1./255)"
      ],
      "execution_count": 6,
      "outputs": []
    },
    {
      "cell_type": "code",
      "metadata": {
        "colab": {
          "base_uri": "https://localhost:8080/"
        },
        "id": "nIQgunXOsayz",
        "outputId": "a424072b-7faf-4d7f-bb5d-abca8b4591f2"
      },
      "source": [
        "train_generator = training_datagen.flow_from_directory ( TRAINIG_DIR, target_size = (224,224), class_mode = 'categorical', batch_size = 16 , shuffle= True)"
      ],
      "execution_count": 11,
      "outputs": [
        {
          "output_type": "stream",
          "text": [
            "Found 883 images belonging to 3 classes.\n"
          ],
          "name": "stdout"
        }
      ]
    },
    {
      "cell_type": "code",
      "metadata": {
        "colab": {
          "base_uri": "https://localhost:8080/"
        },
        "id": "EmGbx7BmR64j",
        "outputId": "c3f9c6a2-1a5b-453a-af46-d1561b16db33"
      },
      "source": [
        "train_generator.class_indices"
      ],
      "execution_count": 12,
      "outputs": [
        {
          "output_type": "execute_result",
          "data": {
            "text/plain": [
              "{'paper': 0, 'rock': 1, 'scissor': 2}"
            ]
          },
          "metadata": {
            "tags": []
          },
          "execution_count": 12
        }
      ]
    },
    {
      "cell_type": "code",
      "metadata": {
        "colab": {
          "base_uri": "https://localhost:8080/"
        },
        "id": "xxtwo-mawAk0",
        "outputId": "564d4565-26a1-4a00-f885-6a3fc0139499"
      },
      "source": [
        "val_generator = validation_datagen.flow_from_directory(VALIDATION_DIR, target_size = (224,224))"
      ],
      "execution_count": 13,
      "outputs": [
        {
          "output_type": "stream",
          "text": [
            "Found 101 images belonging to 3 classes.\n"
          ],
          "name": "stdout"
        }
      ]
    },
    {
      "cell_type": "code",
      "metadata": {
        "id": "NBKeaN4Pv5cY"
      },
      "source": [
        "model_1 = tf.keras.models.Sequential([\n",
        "                                     \n",
        "    tf.keras.layers.Conv2D(64, (3,3), activation='relu', input_shape = (224,224,3)),\n",
        "    tf.keras.layers.MaxPooling2D(2,2),\n",
        "    tf.keras.layers.Conv2D(64, (3,3), activation='relu'),\n",
        "    tf.keras.layers.MaxPooling2D(2,2),\n",
        "    tf.keras.layers.Conv2D(128 , (3,3), activation='relu'),\n",
        "    tf.keras.layers.MaxPooling2D(2,2),\n",
        "    tf.keras.layers.Flatten(),\n",
        "    tf.keras.layers.Dropout(0.6),\n",
        "    tf.keras.layers.Dense(512, activation='relu'),\n",
        "    tf.keras.layers.Dense(3, activation= 'softmax' )\n",
        "])"
      ],
      "execution_count": 61,
      "outputs": []
    },
    {
      "cell_type": "code",
      "metadata": {
        "id": "uzgPVCMCUMql"
      },
      "source": [
        "adam = tf.keras.optimizers.Adam(learning_rate= 0.0001)"
      ],
      "execution_count": 56,
      "outputs": []
    },
    {
      "cell_type": "code",
      "metadata": {
        "id": "_hbUyZT55AKp"
      },
      "source": [
        "model_1.compile(loss = 'categorical_crossentropy', optimizer = adam, metrics = ['acc'])"
      ],
      "execution_count": 63,
      "outputs": []
    },
    {
      "cell_type": "code",
      "metadata": {
        "id": "vH41poPswceF"
      },
      "source": [
        "checkpoint = tf.keras.callbacks.ModelCheckpoint(\"a.h5\", monitor= 'val_acc', verbose = 1, save_best_only= True)"
      ],
      "execution_count": 64,
      "outputs": []
    },
    {
      "cell_type": "code",
      "metadata": {
        "colab": {
          "base_uri": "https://localhost:8080/"
        },
        "id": "73w50jph5RsY",
        "outputId": "5e3498ca-155d-4845-f1a0-425a4aece62e"
      },
      "source": [
        "history_1 = model_1.fit(train_generator, epochs = 40 , steps_per_epoch=10,verbose = 1 , validation_steps = 1, validation_data= val_generator , callbacks = [checkpoint])"
      ],
      "execution_count": 65,
      "outputs": [
        {
          "output_type": "stream",
          "text": [
            "Epoch 1/40\n",
            "10/10 [==============================] - 3s 279ms/step - loss: 1.1770 - acc: 0.3100 - val_loss: 1.0513 - val_acc: 0.5312\n",
            "\n",
            "Epoch 00001: val_acc improved from -inf to 0.53125, saving model to a.h5\n",
            "Epoch 2/40\n",
            "10/10 [==============================] - 3s 262ms/step - loss: 1.0952 - acc: 0.4000 - val_loss: 1.0435 - val_acc: 0.3750\n",
            "\n",
            "Epoch 00002: val_acc did not improve from 0.53125\n",
            "Epoch 3/40\n",
            "10/10 [==============================] - 3s 253ms/step - loss: 1.0711 - acc: 0.3992 - val_loss: 0.9601 - val_acc: 0.7500\n",
            "\n",
            "Epoch 00003: val_acc improved from 0.53125 to 0.75000, saving model to a.h5\n",
            "Epoch 4/40\n",
            "10/10 [==============================] - 3s 254ms/step - loss: 1.0228 - acc: 0.4724 - val_loss: 0.8581 - val_acc: 0.6562\n",
            "\n",
            "Epoch 00004: val_acc did not improve from 0.75000\n",
            "Epoch 5/40\n",
            "10/10 [==============================] - 3s 249ms/step - loss: 0.9531 - acc: 0.5708 - val_loss: 0.7295 - val_acc: 0.6250\n",
            "\n",
            "Epoch 00005: val_acc did not improve from 0.75000\n",
            "Epoch 6/40\n",
            "10/10 [==============================] - 3s 253ms/step - loss: 0.8193 - acc: 0.6299 - val_loss: 0.4313 - val_acc: 0.9375\n",
            "\n",
            "Epoch 00006: val_acc improved from 0.75000 to 0.93750, saving model to a.h5\n",
            "Epoch 7/40\n",
            "10/10 [==============================] - 3s 259ms/step - loss: 0.8348 - acc: 0.6132 - val_loss: 0.6253 - val_acc: 0.5938\n",
            "\n",
            "Epoch 00007: val_acc did not improve from 0.93750\n",
            "Epoch 8/40\n",
            "10/10 [==============================] - 3s 261ms/step - loss: 0.6693 - acc: 0.7183 - val_loss: 0.3552 - val_acc: 0.8750\n",
            "\n",
            "Epoch 00008: val_acc did not improve from 0.93750\n",
            "Epoch 9/40\n",
            "10/10 [==============================] - 3s 250ms/step - loss: 0.6130 - acc: 0.7345 - val_loss: 0.4274 - val_acc: 0.8438\n",
            "\n",
            "Epoch 00009: val_acc did not improve from 0.93750\n",
            "Epoch 10/40\n",
            "10/10 [==============================] - 2s 234ms/step - loss: 0.6386 - acc: 0.7668 - val_loss: 0.4136 - val_acc: 0.8125\n",
            "\n",
            "Epoch 00010: val_acc did not improve from 0.93750\n",
            "Epoch 11/40\n",
            "10/10 [==============================] - 3s 251ms/step - loss: 0.6021 - acc: 0.7571 - val_loss: 0.2812 - val_acc: 0.9375\n",
            "\n",
            "Epoch 00011: val_acc did not improve from 0.93750\n",
            "Epoch 12/40\n",
            "10/10 [==============================] - 2s 230ms/step - loss: 0.5511 - acc: 0.7651 - val_loss: 0.3778 - val_acc: 0.8750\n",
            "\n",
            "Epoch 00012: val_acc did not improve from 0.93750\n",
            "Epoch 13/40\n",
            "10/10 [==============================] - 3s 251ms/step - loss: 0.7140 - acc: 0.6640 - val_loss: 0.2236 - val_acc: 1.0000\n",
            "\n",
            "Epoch 00013: val_acc improved from 0.93750 to 1.00000, saving model to a.h5\n",
            "Epoch 14/40\n",
            "10/10 [==============================] - 3s 260ms/step - loss: 0.6196 - acc: 0.7544 - val_loss: 0.2795 - val_acc: 0.8750\n",
            "\n",
            "Epoch 00014: val_acc did not improve from 1.00000\n",
            "Epoch 15/40\n",
            "10/10 [==============================] - 2s 241ms/step - loss: 0.4315 - acc: 0.8424 - val_loss: 0.2048 - val_acc: 0.9375\n",
            "\n",
            "Epoch 00015: val_acc did not improve from 1.00000\n",
            "Epoch 16/40\n",
            "10/10 [==============================] - 2s 237ms/step - loss: 0.5318 - acc: 0.7296 - val_loss: 0.3900 - val_acc: 0.8438\n",
            "\n",
            "Epoch 00016: val_acc did not improve from 1.00000\n",
            "Epoch 17/40\n",
            "10/10 [==============================] - 3s 254ms/step - loss: 0.5223 - acc: 0.8361 - val_loss: 0.1915 - val_acc: 0.9688\n",
            "\n",
            "Epoch 00017: val_acc did not improve from 1.00000\n",
            "Epoch 18/40\n",
            "10/10 [==============================] - 2s 233ms/step - loss: 0.5608 - acc: 0.8080 - val_loss: 0.3052 - val_acc: 0.8750\n",
            "\n",
            "Epoch 00018: val_acc did not improve from 1.00000\n",
            "Epoch 19/40\n",
            "10/10 [==============================] - 2s 255ms/step - loss: 0.5017 - acc: 0.8359 - val_loss: 0.1812 - val_acc: 0.9688\n",
            "\n",
            "Epoch 00019: val_acc did not improve from 1.00000\n",
            "Epoch 20/40\n",
            "10/10 [==============================] - 3s 254ms/step - loss: 0.4456 - acc: 0.8097 - val_loss: 0.1864 - val_acc: 0.9688\n",
            "\n",
            "Epoch 00020: val_acc did not improve from 1.00000\n",
            "Epoch 21/40\n",
            "10/10 [==============================] - 3s 252ms/step - loss: 0.4146 - acc: 0.8466 - val_loss: 0.1462 - val_acc: 1.0000\n",
            "\n",
            "Epoch 00021: val_acc did not improve from 1.00000\n",
            "Epoch 22/40\n",
            "10/10 [==============================] - 3s 251ms/step - loss: 0.4457 - acc: 0.8413 - val_loss: 0.1823 - val_acc: 0.9375\n",
            "\n",
            "Epoch 00022: val_acc did not improve from 1.00000\n",
            "Epoch 23/40\n",
            "10/10 [==============================] - 2s 253ms/step - loss: 0.4883 - acc: 0.8092 - val_loss: 0.2297 - val_acc: 1.0000\n",
            "\n",
            "Epoch 00023: val_acc did not improve from 1.00000\n",
            "Epoch 24/40\n",
            "10/10 [==============================] - 3s 252ms/step - loss: 0.6158 - acc: 0.7316 - val_loss: 0.1285 - val_acc: 0.9688\n",
            "\n",
            "Epoch 00024: val_acc did not improve from 1.00000\n",
            "Epoch 25/40\n",
            "10/10 [==============================] - 2s 235ms/step - loss: 0.3806 - acc: 0.8529 - val_loss: 0.1266 - val_acc: 1.0000\n",
            "\n",
            "Epoch 00025: val_acc did not improve from 1.00000\n",
            "Epoch 26/40\n",
            "10/10 [==============================] - 2s 242ms/step - loss: 0.3642 - acc: 0.8770 - val_loss: 0.1297 - val_acc: 1.0000\n",
            "\n",
            "Epoch 00026: val_acc did not improve from 1.00000\n",
            "Epoch 27/40\n",
            "10/10 [==============================] - 3s 251ms/step - loss: 0.4500 - acc: 0.7872 - val_loss: 0.1008 - val_acc: 1.0000\n",
            "\n",
            "Epoch 00027: val_acc did not improve from 1.00000\n",
            "Epoch 28/40\n",
            "10/10 [==============================] - 3s 252ms/step - loss: 0.4780 - acc: 0.8179 - val_loss: 0.1900 - val_acc: 1.0000\n",
            "\n",
            "Epoch 00028: val_acc did not improve from 1.00000\n",
            "Epoch 29/40\n",
            "10/10 [==============================] - 3s 249ms/step - loss: 0.3476 - acc: 0.8801 - val_loss: 0.1184 - val_acc: 1.0000\n",
            "\n",
            "Epoch 00029: val_acc did not improve from 1.00000\n",
            "Epoch 30/40\n",
            "10/10 [==============================] - 3s 254ms/step - loss: 0.4541 - acc: 0.7848 - val_loss: 0.1639 - val_acc: 0.9688\n",
            "\n",
            "Epoch 00030: val_acc did not improve from 1.00000\n",
            "Epoch 31/40\n",
            "10/10 [==============================] - 2s 236ms/step - loss: 0.5039 - acc: 0.7593 - val_loss: 0.2302 - val_acc: 0.9062\n",
            "\n",
            "Epoch 00031: val_acc did not improve from 1.00000\n",
            "Epoch 32/40\n",
            "10/10 [==============================] - 3s 250ms/step - loss: 0.4616 - acc: 0.8250 - val_loss: 0.1880 - val_acc: 0.9688\n",
            "\n",
            "Epoch 00032: val_acc did not improve from 1.00000\n",
            "Epoch 33/40\n",
            "10/10 [==============================] - 2s 237ms/step - loss: 0.3406 - acc: 0.8932 - val_loss: 0.0792 - val_acc: 1.0000\n",
            "\n",
            "Epoch 00033: val_acc did not improve from 1.00000\n",
            "Epoch 34/40\n",
            "10/10 [==============================] - 3s 247ms/step - loss: 0.3150 - acc: 0.8793 - val_loss: 0.0741 - val_acc: 1.0000\n",
            "\n",
            "Epoch 00034: val_acc did not improve from 1.00000\n",
            "Epoch 35/40\n",
            "10/10 [==============================] - 3s 252ms/step - loss: 0.4041 - acc: 0.8388 - val_loss: 0.0863 - val_acc: 1.0000\n",
            "\n",
            "Epoch 00035: val_acc did not improve from 1.00000\n",
            "Epoch 36/40\n",
            "10/10 [==============================] - 3s 252ms/step - loss: 0.3843 - acc: 0.8498 - val_loss: 0.0678 - val_acc: 0.9688\n",
            "\n",
            "Epoch 00036: val_acc did not improve from 1.00000\n",
            "Epoch 37/40\n",
            "10/10 [==============================] - 3s 250ms/step - loss: 0.3741 - acc: 0.8795 - val_loss: 0.0713 - val_acc: 1.0000\n",
            "\n",
            "Epoch 00037: val_acc did not improve from 1.00000\n",
            "Epoch 38/40\n",
            "10/10 [==============================] - 3s 251ms/step - loss: 0.3328 - acc: 0.8856 - val_loss: 0.0734 - val_acc: 1.0000\n",
            "\n",
            "Epoch 00038: val_acc did not improve from 1.00000\n",
            "Epoch 39/40\n",
            "10/10 [==============================] - 3s 253ms/step - loss: 0.3280 - acc: 0.9048 - val_loss: 0.0957 - val_acc: 1.0000\n",
            "\n",
            "Epoch 00039: val_acc did not improve from 1.00000\n",
            "Epoch 40/40\n",
            "10/10 [==============================] - 3s 251ms/step - loss: 0.4066 - acc: 0.8403 - val_loss: 0.1316 - val_acc: 0.9375\n",
            "\n",
            "Epoch 00040: val_acc did not improve from 1.00000\n"
          ],
          "name": "stdout"
        }
      ]
    },
    {
      "cell_type": "code",
      "metadata": {
        "colab": {
          "base_uri": "https://localhost:8080/",
          "height": 265
        },
        "id": "H_K6vZzx0GGt",
        "outputId": "0cb13bb9-8b10-430f-d7d4-2b94fab9d4cc"
      },
      "source": [
        "import matplotlib.pyplot as plt\n",
        "plt.plot(history_1.history['acc'])\n",
        "plt.plot(history_1.history['val_acc'])\n",
        "plt.show()"
      ],
      "execution_count": 68,
      "outputs": [
        {
          "output_type": "display_data",
          "data": {
            "image/png": "[encoded data removed]",
            "text/plain": [
              "<Figure size 432x288 with 1 Axes>"
            ]
          },
          "metadata": {
            "tags": [],
            "needs_background": "light"
          }
        }
      ]
    },
    {
      "cell_type": "code",
      "metadata": {
        "id": "l34ARIn10gEn"
      },
      "source": [
        "model_1 = tf.keras.models.load_model(\"a.h5\")"
      ],
      "execution_count": null,
      "outputs": []
    },
    {
      "cell_type": "code",
      "metadata": {
        "colab": {
          "base_uri": "https://localhost:8080/"
        },
        "id": "EZ9Zshzs0t-H",
        "outputId": "786072b1-a17b-4c2d-b8f5-8fbc7a65c570"
      },
      "source": [
        "model_1.summary()"
      ],
      "execution_count": 76,
      "outputs": [
        {
          "output_type": "stream",
          "text": [
            "Model: \"sequential_7\"\n",
            "_________________________________________________________________\n",
            "Layer (type)                 Output Shape              Param #   \n",
            "=================================================================\n",
            "conv2d_21 (Conv2D)           (None, 222, 222, 64)      1792      \n",
            "_________________________________________________________________\n",
            "max_pooling2d_21 (MaxPooling (None, 111, 111, 64)      0         \n",
            "_________________________________________________________________\n",
            "conv2d_22 (Conv2D)           (None, 109, 109, 64)      36928     \n",
            "_________________________________________________________________\n",
            "max_pooling2d_22 (MaxPooling (None, 54, 54, 64)        0         \n",
            "_________________________________________________________________\n",
            "conv2d_23 (Conv2D)           (None, 52, 52, 128)       73856     \n",
            "_________________________________________________________________\n",
            "max_pooling2d_23 (MaxPooling (None, 26, 26, 128)       0         \n",
            "_________________________________________________________________\n",
            "flatten_7 (Flatten)          (None, 86528)             0         \n",
            "_________________________________________________________________\n",
            "dropout_7 (Dropout)          (None, 86528)             0         \n",
            "_________________________________________________________________\n",
            "dense_14 (Dense)             (None, 512)               44302848  \n",
            "_________________________________________________________________\n",
            "dense_15 (Dense)             (None, 3)                 1539      \n",
            "=================================================================\n",
            "Total params: 44,416,963\n",
            "Trainable params: 44,416,963\n",
            "Non-trainable params: 0\n",
            "_________________________________________________________________\n"
          ],
          "name": "stdout"
        }
      ]
    },
    {
      "cell_type": "code",
      "metadata": {
        "id": "VJ5pVhdS76xN"
      },
      "source": [
        ""
      ],
      "execution_count": null,
      "outputs": []
    }
  ]
}